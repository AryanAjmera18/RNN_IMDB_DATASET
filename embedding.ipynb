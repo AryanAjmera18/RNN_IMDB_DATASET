{
 "cells": [
  {
   "cell_type": "code",
   "execution_count": 1,
   "id": "2b5274db",
   "metadata": {},
   "outputs": [],
   "source": [
    "from tensorflow.keras.preprocessing.text import one_hot"
   ]
  },
  {
   "cell_type": "code",
   "execution_count": 5,
   "id": "eb1dad76",
   "metadata": {},
   "outputs": [],
   "source": [
    "## sentences \n",
    "sent =['this is a glass of milk',\n",
    "       'this is a glass of water',\n",
    "       'this is a glass of juice',\n",
    "       'this is a glass of tea',\n",
    "       'this is a glass of coffee']"
   ]
  },
  {
   "cell_type": "code",
   "execution_count": 6,
   "id": "55f3479c",
   "metadata": {},
   "outputs": [],
   "source": [
    "## define vocab size \n",
    "voc_size =10000"
   ]
  },
  {
   "cell_type": "code",
   "execution_count": 7,
   "id": "230ecf0d",
   "metadata": {},
   "outputs": [],
   "source": [
    "## one hot encoding\n",
    "one_hot_rep=[one_hot(words,voc_size)for words in sent]"
   ]
  },
  {
   "cell_type": "code",
   "execution_count": 8,
   "id": "2562d427",
   "metadata": {},
   "outputs": [
    {
     "data": {
      "text/plain": [
       "[[1219, 6949, 6781, 2104, 1656, 5925],\n",
       " [1219, 6949, 6781, 2104, 1656, 9342],\n",
       " [1219, 6949, 6781, 2104, 1656, 601],\n",
       " [1219, 6949, 6781, 2104, 1656, 6362],\n",
       " [1219, 6949, 6781, 2104, 1656, 8511]]"
      ]
     },
     "execution_count": 8,
     "metadata": {},
     "output_type": "execute_result"
    }
   ],
   "source": [
    "one_hot_rep"
   ]
  },
  {
   "cell_type": "code",
   "execution_count": 9,
   "id": "63f876a0",
   "metadata": {},
   "outputs": [],
   "source": [
    "## word embedding representation\n",
    "from tensorflow.keras.layers import Embedding\n",
    "from tensorflow.keras.utils import pad_sequences\n",
    "from tensorflow.keras.models import Sequential\n",
    "import numpy as np"
   ]
  },
  {
   "cell_type": "code",
   "execution_count": 10,
   "id": "cf64a6df",
   "metadata": {},
   "outputs": [
    {
     "name": "stdout",
     "output_type": "stream",
     "text": [
      "[[   0    0 1219 6949 6781 2104 1656 5925]\n",
      " [   0    0 1219 6949 6781 2104 1656 9342]\n",
      " [   0    0 1219 6949 6781 2104 1656  601]\n",
      " [   0    0 1219 6949 6781 2104 1656 6362]\n",
      " [   0    0 1219 6949 6781 2104 1656 8511]]\n"
     ]
    }
   ],
   "source": [
    "sen_length =8\n",
    "embedded_docs =pad_sequences(one_hot_rep,padding='pre',maxlen=sen_length)\n",
    "print(embedded_docs)"
   ]
  },
  {
   "cell_type": "code",
   "execution_count": 14,
   "id": "0e5fc01e",
   "metadata": {},
   "outputs": [
    {
     "name": "stderr",
     "output_type": "stream",
     "text": [
      "d:\\DataScienceBootCamp\\python\\venv1\\Lib\\site-packages\\keras\\src\\layers\\core\\embedding.py:90: UserWarning: Argument `input_length` is deprecated. Just remove it.\n",
      "  warnings.warn(\n"
     ]
    },
    {
     "data": {
      "text/html": [
       "<pre style=\"white-space:pre;overflow-x:auto;line-height:normal;font-family:Menlo,'DejaVu Sans Mono',consolas,'Courier New',monospace\"><span style=\"font-weight: bold\">Model: \"sequential_3\"</span>\n",
       "</pre>\n"
      ],
      "text/plain": [
       "\u001b[1mModel: \"sequential_3\"\u001b[0m\n"
      ]
     },
     "metadata": {},
     "output_type": "display_data"
    },
    {
     "data": {
      "text/html": [
       "<pre style=\"white-space:pre;overflow-x:auto;line-height:normal;font-family:Menlo,'DejaVu Sans Mono',consolas,'Courier New',monospace\">┏━━━━━━━━━━━━━━━━━━━━━━━━━━━━━━━━━┳━━━━━━━━━━━━━━━━━━━━━━━━┳━━━━━━━━━━━━━━━┓\n",
       "┃<span style=\"font-weight: bold\"> Layer (type)                    </span>┃<span style=\"font-weight: bold\"> Output Shape           </span>┃<span style=\"font-weight: bold\">       Param # </span>┃\n",
       "┡━━━━━━━━━━━━━━━━━━━━━━━━━━━━━━━━━╇━━━━━━━━━━━━━━━━━━━━━━━━╇━━━━━━━━━━━━━━━┩\n",
       "│ embedding_3 (<span style=\"color: #0087ff; text-decoration-color: #0087ff\">Embedding</span>)         │ ?                      │   <span style=\"color: #00af00; text-decoration-color: #00af00\">0</span> (unbuilt) │\n",
       "└─────────────────────────────────┴────────────────────────┴───────────────┘\n",
       "</pre>\n"
      ],
      "text/plain": [
       "┏━━━━━━━━━━━━━━━━━━━━━━━━━━━━━━━━━┳━━━━━━━━━━━━━━━━━━━━━━━━┳━━━━━━━━━━━━━━━┓\n",
       "┃\u001b[1m \u001b[0m\u001b[1mLayer (type)                   \u001b[0m\u001b[1m \u001b[0m┃\u001b[1m \u001b[0m\u001b[1mOutput Shape          \u001b[0m\u001b[1m \u001b[0m┃\u001b[1m \u001b[0m\u001b[1m      Param #\u001b[0m\u001b[1m \u001b[0m┃\n",
       "┡━━━━━━━━━━━━━━━━━━━━━━━━━━━━━━━━━╇━━━━━━━━━━━━━━━━━━━━━━━━╇━━━━━━━━━━━━━━━┩\n",
       "│ embedding_3 (\u001b[38;5;33mEmbedding\u001b[0m)         │ ?                      │   \u001b[38;5;34m0\u001b[0m (unbuilt) │\n",
       "└─────────────────────────────────┴────────────────────────┴───────────────┘\n"
      ]
     },
     "metadata": {},
     "output_type": "display_data"
    },
    {
     "data": {
      "text/html": [
       "<pre style=\"white-space:pre;overflow-x:auto;line-height:normal;font-family:Menlo,'DejaVu Sans Mono',consolas,'Courier New',monospace\"><span style=\"font-weight: bold\"> Total params: </span><span style=\"color: #00af00; text-decoration-color: #00af00\">0</span> (0.00 B)\n",
       "</pre>\n"
      ],
      "text/plain": [
       "\u001b[1m Total params: \u001b[0m\u001b[38;5;34m0\u001b[0m (0.00 B)\n"
      ]
     },
     "metadata": {},
     "output_type": "display_data"
    },
    {
     "data": {
      "text/html": [
       "<pre style=\"white-space:pre;overflow-x:auto;line-height:normal;font-family:Menlo,'DejaVu Sans Mono',consolas,'Courier New',monospace\"><span style=\"font-weight: bold\"> Trainable params: </span><span style=\"color: #00af00; text-decoration-color: #00af00\">0</span> (0.00 B)\n",
       "</pre>\n"
      ],
      "text/plain": [
       "\u001b[1m Trainable params: \u001b[0m\u001b[38;5;34m0\u001b[0m (0.00 B)\n"
      ]
     },
     "metadata": {},
     "output_type": "display_data"
    },
    {
     "data": {
      "text/html": [
       "<pre style=\"white-space:pre;overflow-x:auto;line-height:normal;font-family:Menlo,'DejaVu Sans Mono',consolas,'Courier New',monospace\"><span style=\"font-weight: bold\"> Non-trainable params: </span><span style=\"color: #00af00; text-decoration-color: #00af00\">0</span> (0.00 B)\n",
       "</pre>\n"
      ],
      "text/plain": [
       "\u001b[1m Non-trainable params: \u001b[0m\u001b[38;5;34m0\u001b[0m (0.00 B)\n"
      ]
     },
     "metadata": {},
     "output_type": "display_data"
    }
   ],
   "source": [
    "## feature represnetation\n",
    "dim=10\n",
    "model=Sequential()\n",
    "model.add(Embedding(input_dim=voc_size,output_dim=dim,input_length=sen_length))\n",
    "model.compile('adam','mse')\n",
    "\n",
    "model.summary()"
   ]
  },
  {
   "cell_type": "code",
   "execution_count": 15,
   "id": "6cd10056",
   "metadata": {},
   "outputs": [
    {
     "name": "stdout",
     "output_type": "stream",
     "text": [
      "\u001b[1m1/1\u001b[0m \u001b[32m━━━━━━━━━━━━━━━━━━━━\u001b[0m\u001b[37m\u001b[0m \u001b[1m0s\u001b[0m 97ms/step\n"
     ]
    },
    {
     "data": {
      "text/plain": [
       "array([[[ 0.02349776,  0.01017042,  0.02953292, -0.03439262,\n",
       "          0.01107948,  0.04391376,  0.04029128,  0.04076095,\n",
       "          0.00285206, -0.04801385],\n",
       "        [ 0.02349776,  0.01017042,  0.02953292, -0.03439262,\n",
       "          0.01107948,  0.04391376,  0.04029128,  0.04076095,\n",
       "          0.00285206, -0.04801385],\n",
       "        [ 0.0128285 ,  0.04736397, -0.04691057,  0.00528927,\n",
       "          0.03485018, -0.0492509 ,  0.04669461, -0.04988614,\n",
       "          0.04984487, -0.02350451],\n",
       "        [-0.0188905 , -0.02420632,  0.00838312, -0.01966034,\n",
       "         -0.00640571,  0.00478773, -0.03829986, -0.0150523 ,\n",
       "          0.02011526, -0.01219849],\n",
       "        [ 0.02060603, -0.03988204,  0.03948914,  0.00591464,\n",
       "          0.04896061, -0.04931137, -0.02572359, -0.0473243 ,\n",
       "         -0.0040251 ,  0.00795761],\n",
       "        [-0.03963172, -0.04723397, -0.01576873,  0.02499184,\n",
       "         -0.04401547, -0.01700443, -0.00524199,  0.01192417,\n",
       "          0.02136138,  0.04535795],\n",
       "        [-0.02231896, -0.00357524, -0.02134043,  0.01694316,\n",
       "         -0.03350902,  0.02116859, -0.01844342, -0.0191528 ,\n",
       "          0.03973169, -0.04362196],\n",
       "        [ 0.0107717 , -0.01478416,  0.01156062,  0.02928701,\n",
       "         -0.03076124, -0.02494938,  0.00311699,  0.01966629,\n",
       "         -0.02397617,  0.01850161]],\n",
       "\n",
       "       [[ 0.02349776,  0.01017042,  0.02953292, -0.03439262,\n",
       "          0.01107948,  0.04391376,  0.04029128,  0.04076095,\n",
       "          0.00285206, -0.04801385],\n",
       "        [ 0.02349776,  0.01017042,  0.02953292, -0.03439262,\n",
       "          0.01107948,  0.04391376,  0.04029128,  0.04076095,\n",
       "          0.00285206, -0.04801385],\n",
       "        [ 0.0128285 ,  0.04736397, -0.04691057,  0.00528927,\n",
       "          0.03485018, -0.0492509 ,  0.04669461, -0.04988614,\n",
       "          0.04984487, -0.02350451],\n",
       "        [-0.0188905 , -0.02420632,  0.00838312, -0.01966034,\n",
       "         -0.00640571,  0.00478773, -0.03829986, -0.0150523 ,\n",
       "          0.02011526, -0.01219849],\n",
       "        [ 0.02060603, -0.03988204,  0.03948914,  0.00591464,\n",
       "          0.04896061, -0.04931137, -0.02572359, -0.0473243 ,\n",
       "         -0.0040251 ,  0.00795761],\n",
       "        [-0.03963172, -0.04723397, -0.01576873,  0.02499184,\n",
       "         -0.04401547, -0.01700443, -0.00524199,  0.01192417,\n",
       "          0.02136138,  0.04535795],\n",
       "        [-0.02231896, -0.00357524, -0.02134043,  0.01694316,\n",
       "         -0.03350902,  0.02116859, -0.01844342, -0.0191528 ,\n",
       "          0.03973169, -0.04362196],\n",
       "        [-0.01498021, -0.02250274, -0.00724762,  0.00080141,\n",
       "         -0.0137699 ,  0.02891422, -0.04389552, -0.04067506,\n",
       "          0.04577858, -0.02009354]],\n",
       "\n",
       "       [[ 0.02349776,  0.01017042,  0.02953292, -0.03439262,\n",
       "          0.01107948,  0.04391376,  0.04029128,  0.04076095,\n",
       "          0.00285206, -0.04801385],\n",
       "        [ 0.02349776,  0.01017042,  0.02953292, -0.03439262,\n",
       "          0.01107948,  0.04391376,  0.04029128,  0.04076095,\n",
       "          0.00285206, -0.04801385],\n",
       "        [ 0.0128285 ,  0.04736397, -0.04691057,  0.00528927,\n",
       "          0.03485018, -0.0492509 ,  0.04669461, -0.04988614,\n",
       "          0.04984487, -0.02350451],\n",
       "        [-0.0188905 , -0.02420632,  0.00838312, -0.01966034,\n",
       "         -0.00640571,  0.00478773, -0.03829986, -0.0150523 ,\n",
       "          0.02011526, -0.01219849],\n",
       "        [ 0.02060603, -0.03988204,  0.03948914,  0.00591464,\n",
       "          0.04896061, -0.04931137, -0.02572359, -0.0473243 ,\n",
       "         -0.0040251 ,  0.00795761],\n",
       "        [-0.03963172, -0.04723397, -0.01576873,  0.02499184,\n",
       "         -0.04401547, -0.01700443, -0.00524199,  0.01192417,\n",
       "          0.02136138,  0.04535795],\n",
       "        [-0.02231896, -0.00357524, -0.02134043,  0.01694316,\n",
       "         -0.03350902,  0.02116859, -0.01844342, -0.0191528 ,\n",
       "          0.03973169, -0.04362196],\n",
       "        [ 0.03422889, -0.0231173 ,  0.02659828,  0.0159032 ,\n",
       "         -0.00143262, -0.00950617,  0.04355926,  0.04742526,\n",
       "          0.0262406 ,  0.01394926]],\n",
       "\n",
       "       [[ 0.02349776,  0.01017042,  0.02953292, -0.03439262,\n",
       "          0.01107948,  0.04391376,  0.04029128,  0.04076095,\n",
       "          0.00285206, -0.04801385],\n",
       "        [ 0.02349776,  0.01017042,  0.02953292, -0.03439262,\n",
       "          0.01107948,  0.04391376,  0.04029128,  0.04076095,\n",
       "          0.00285206, -0.04801385],\n",
       "        [ 0.0128285 ,  0.04736397, -0.04691057,  0.00528927,\n",
       "          0.03485018, -0.0492509 ,  0.04669461, -0.04988614,\n",
       "          0.04984487, -0.02350451],\n",
       "        [-0.0188905 , -0.02420632,  0.00838312, -0.01966034,\n",
       "         -0.00640571,  0.00478773, -0.03829986, -0.0150523 ,\n",
       "          0.02011526, -0.01219849],\n",
       "        [ 0.02060603, -0.03988204,  0.03948914,  0.00591464,\n",
       "          0.04896061, -0.04931137, -0.02572359, -0.0473243 ,\n",
       "         -0.0040251 ,  0.00795761],\n",
       "        [-0.03963172, -0.04723397, -0.01576873,  0.02499184,\n",
       "         -0.04401547, -0.01700443, -0.00524199,  0.01192417,\n",
       "          0.02136138,  0.04535795],\n",
       "        [-0.02231896, -0.00357524, -0.02134043,  0.01694316,\n",
       "         -0.03350902,  0.02116859, -0.01844342, -0.0191528 ,\n",
       "          0.03973169, -0.04362196],\n",
       "        [-0.03758526,  0.00419425, -0.03782587,  0.00467585,\n",
       "          0.00786536,  0.02185542, -0.0441488 ,  0.02358649,\n",
       "          0.04955773, -0.04513787]],\n",
       "\n",
       "       [[ 0.02349776,  0.01017042,  0.02953292, -0.03439262,\n",
       "          0.01107948,  0.04391376,  0.04029128,  0.04076095,\n",
       "          0.00285206, -0.04801385],\n",
       "        [ 0.02349776,  0.01017042,  0.02953292, -0.03439262,\n",
       "          0.01107948,  0.04391376,  0.04029128,  0.04076095,\n",
       "          0.00285206, -0.04801385],\n",
       "        [ 0.0128285 ,  0.04736397, -0.04691057,  0.00528927,\n",
       "          0.03485018, -0.0492509 ,  0.04669461, -0.04988614,\n",
       "          0.04984487, -0.02350451],\n",
       "        [-0.0188905 , -0.02420632,  0.00838312, -0.01966034,\n",
       "         -0.00640571,  0.00478773, -0.03829986, -0.0150523 ,\n",
       "          0.02011526, -0.01219849],\n",
       "        [ 0.02060603, -0.03988204,  0.03948914,  0.00591464,\n",
       "          0.04896061, -0.04931137, -0.02572359, -0.0473243 ,\n",
       "         -0.0040251 ,  0.00795761],\n",
       "        [-0.03963172, -0.04723397, -0.01576873,  0.02499184,\n",
       "         -0.04401547, -0.01700443, -0.00524199,  0.01192417,\n",
       "          0.02136138,  0.04535795],\n",
       "        [-0.02231896, -0.00357524, -0.02134043,  0.01694316,\n",
       "         -0.03350902,  0.02116859, -0.01844342, -0.0191528 ,\n",
       "          0.03973169, -0.04362196],\n",
       "        [ 0.04780442,  0.01510782,  0.04937053,  0.00925918,\n",
       "          0.0403052 , -0.0388072 ,  0.03984897,  0.04234983,\n",
       "          0.03661007, -0.03217701]]], dtype=float32)"
      ]
     },
     "execution_count": 15,
     "metadata": {},
     "output_type": "execute_result"
    }
   ],
   "source": [
    "model.predict(embedded_docs)"
   ]
  },
  {
   "cell_type": "code",
   "execution_count": 16,
   "id": "60cd1786",
   "metadata": {},
   "outputs": [
    {
     "data": {
      "text/plain": [
       "'this is a glass of milk'"
      ]
     },
     "execution_count": 16,
     "metadata": {},
     "output_type": "execute_result"
    }
   ],
   "source": [
    "sent[0]"
   ]
  },
  {
   "cell_type": "code",
   "execution_count": 17,
   "id": "59d87c2c",
   "metadata": {},
   "outputs": [
    {
     "data": {
      "text/plain": [
       "array([   0,    0, 1219, 6949, 6781, 2104, 1656, 5925], dtype=int32)"
      ]
     },
     "execution_count": 17,
     "metadata": {},
     "output_type": "execute_result"
    }
   ],
   "source": [
    "embedded_docs[0]"
   ]
  },
  {
   "cell_type": "code",
   "execution_count": null,
   "id": "136f74b0",
   "metadata": {},
   "outputs": [],
   "source": []
  }
 ],
 "metadata": {
  "kernelspec": {
   "display_name": "venv1",
   "language": "python",
   "name": "python3"
  },
  "language_info": {
   "codemirror_mode": {
    "name": "ipython",
    "version": 3
   },
   "file_extension": ".py",
   "mimetype": "text/x-python",
   "name": "python",
   "nbconvert_exporter": "python",
   "pygments_lexer": "ipython3",
   "version": "3.12.9"
  }
 },
 "nbformat": 4,
 "nbformat_minor": 5
}
