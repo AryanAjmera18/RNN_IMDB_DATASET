{
 "cells": [
  {
   "cell_type": "code",
   "execution_count": 5,
   "id": "ebfc0e34",
   "metadata": {},
   "outputs": [],
   "source": [
    "import numpy as np\n",
    "import tensorflow as tf\n",
    "from tensorflow.keras.datasets import imdb\n",
    "from tensorflow.keras.preprocessing import sequence\n",
    "from tensorflow.keras.models import Sequential ,load_model\n",
    "from tensorflow.keras.layers import SimpleRNN , Embedding,Dense"
   ]
  },
  {
   "cell_type": "code",
   "execution_count": 6,
   "id": "7866315f",
   "metadata": {},
   "outputs": [
    {
     "data": {
      "text/plain": [
       "'fawn'"
      ]
     },
     "execution_count": 6,
     "metadata": {},
     "output_type": "execute_result"
    }
   ],
   "source": [
    "word_index = imdb.get_word_index()\n",
    "word_index\n",
    "reverse_word_index ={value: key for key,value in word_index.items()}\n",
    "reverse_word_index[34701]"
   ]
  },
  {
   "cell_type": "code",
   "execution_count": 7,
   "id": "5ccceb7a",
   "metadata": {},
   "outputs": [
    {
     "name": "stderr",
     "output_type": "stream",
     "text": [
      "WARNING:absl:Compiled the loaded model, but the compiled metrics have yet to be built. `model.compile_metrics` will be empty until you train or evaluate the model.\n"
     ]
    }
   ],
   "source": [
    "model = load_model('simple_rnn_imdb.h5')\n"
   ]
  },
  {
   "cell_type": "code",
   "execution_count": 8,
   "id": "70003fb6",
   "metadata": {},
   "outputs": [],
   "source": [
    "## funtion to decode the reviews\n",
    "def decode_review(encoded_reviews):\n",
    "    return ' '.join([reverse_word_index.get(i-3,'?') for i in encoded_reviews])"
   ]
  },
  {
   "cell_type": "code",
   "execution_count": 9,
   "id": "680a569b",
   "metadata": {},
   "outputs": [],
   "source": [
    "def preprocess_text(text):\n",
    "    words = text.lower().split()\n",
    "    encoded_review = [word_index.get(word,2)+3 for word in words]\n",
    "    padded_review = sequence.pad_sequences([encoded_review], maxlen=500)\n",
    "    return padded_review"
   ]
  },
  {
   "cell_type": "code",
   "execution_count": 16,
   "id": "74a64218",
   "metadata": {},
   "outputs": [],
   "source": [
    "## prediction function\n",
    "def predict_sentiment(text):\n",
    "    preprocessed_input = preprocess_text(text)\n",
    "    prediction = model.predict(preprocessed_input)\n",
    "    sentiment = 'positive' if prediction[0][0] > 0.5 else 'negative'\n",
    "    return sentiment, prediction[0][0]\n"
   ]
  },
  {
   "cell_type": "code",
   "execution_count": 18,
   "id": "26b1af19",
   "metadata": {},
   "outputs": [
    {
     "name": "stdout",
     "output_type": "stream",
     "text": [
      "\u001b[1m1/1\u001b[0m \u001b[32m━━━━━━━━━━━━━━━━━━━━\u001b[0m\u001b[37m\u001b[0m \u001b[1m0s\u001b[0m 33ms/step\n",
      "Sentiment: negative, Score: 0.4754\n"
     ]
    }
   ],
   "source": [
    "example_text = \"The movie was okay.\"\n",
    "sentiment , score = predict_sentiment(example_text)\n",
    "print(f\"Sentiment: {sentiment}, Score: {score:.4f}\")"
   ]
  },
  {
   "cell_type": "code",
   "execution_count": null,
   "id": "f9ee12a5",
   "metadata": {},
   "outputs": [],
   "source": []
  },
  {
   "cell_type": "code",
   "execution_count": null,
   "id": "f093e353",
   "metadata": {},
   "outputs": [],
   "source": []
  }
 ],
 "metadata": {
  "kernelspec": {
   "display_name": "venv1",
   "language": "python",
   "name": "python3"
  },
  "language_info": {
   "codemirror_mode": {
    "name": "ipython",
    "version": 3
   },
   "file_extension": ".py",
   "mimetype": "text/x-python",
   "name": "python",
   "nbconvert_exporter": "python",
   "pygments_lexer": "ipython3",
   "version": "3.12.9"
  }
 },
 "nbformat": 4,
 "nbformat_minor": 5
}
